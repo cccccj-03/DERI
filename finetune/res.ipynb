{
 "cells": [
  {
   "cell_type": "code",
   "execution_count": 168,
   "metadata": {},
   "outputs": [],
   "source": [
    "import pandas as pd"
   ]
  },
  {
   "cell_type": "markdown",
   "metadata": {},
   "source": [
    "## ICBEB"
   ]
  },
  {
   "cell_type": "code",
   "execution_count": 314,
   "metadata": {},
   "outputs": [],
   "source": [
    "icbeb1 = pd.read_csv('/home/chenjian/multi-modal_ECG/merl/MERL/finetune/ckpt/icbeb/LinearProbing/LinearProbing-resnet18-B-16icbebR-1.csv',index_col='epoch')\n",
    "#icbeb10 = pd.read_csv('/home/chenjian/multi-modal_ECG/merl/MERL/finetune/ckpt/icbeb/LinearProbing/LinearProbing-resnet18-B-16icbebR-10.csv',index_col='epoch')\n",
    "#icbeb100 = pd.read_csv('/home/chenjian/multi-modal_ECG/merl/MERL/finetune/ckpt/icbeb/LinearProbing/LinearProbing-resnet18-B-16icbebR-100.csv',index_col='epoch')"
   ]
  },
  {
   "cell_type": "code",
   "execution_count": 315,
   "metadata": {},
   "outputs": [
    {
     "name": "stdout",
     "output_type": "stream",
     "text": [
      "AUC of 1% training data: 0.7414259914954252\n"
     ]
    }
   ],
   "source": [
    "print('AUC of 1% training data:', icbeb1['test_auc'].max())\n",
    "#print('AUC of 10% training data:', icbeb10['test_auc'].max())\n",
    "#print('AUC of 100% training data:', icbeb100['test_auc'].max())"
   ]
  },
  {
   "cell_type": "markdown",
   "metadata": {},
   "source": [
    "## Chapman"
   ]
  },
  {
   "cell_type": "code",
   "execution_count": 316,
   "metadata": {},
   "outputs": [],
   "source": [
    "chapman1 = pd.read_csv('/home/chenjian/multi-modal_ECG/merl/MERL/finetune/ckpt/chapman/LinearProbing/LinearProbing-resnet18-B-16chapmanR-1.csv',index_col='epoch')\n",
    "#chapman10 = pd.read_csv('/home/chenjian/multi-modal_ECG/merl/MERL/finetune/ckpt/chapman/LinearProbing/LinearProbing-resnet18-B-16chapmanR-10.csv',index_col='epoch')\n",
    "#chapman100 = pd.read_csv('/home/chenjian/multi-modal_ECG/merl/MERL/finetune/ckpt/chapman/LinearProbing/LinearProbing-resnet18-B-16chapmanR-100.csv',index_col='epoch')"
   ]
  },
  {
   "cell_type": "code",
   "execution_count": 317,
   "metadata": {},
   "outputs": [
    {
     "name": "stdout",
     "output_type": "stream",
     "text": [
      "AUC of 1% training data: 0.6888074207824745\n"
     ]
    }
   ],
   "source": [
    "print('AUC of 1% training data:', chapman1['test_auc'].max())\n",
    "#print('AUC of 10% training data:', chapman10['test_auc'].max())\n",
    "#print('AUC of 100% training data:', chapman100['test_auc'].max())"
   ]
  },
  {
   "cell_type": "markdown",
   "metadata": {},
   "source": [
    "## PTBXL-Form"
   ]
  },
  {
   "cell_type": "code",
   "execution_count": 318,
   "metadata": {},
   "outputs": [],
   "source": [
    "form1 = pd.read_csv('/home/chenjian/multi-modal_ECG/merl/MERL/finetune/ckpt/ptbxl_form/LinearProbing/LinearProbing-resnet18-B-16ptbxl_formR-1.csv',index_col='epoch')\n",
    "#finetune/ckpt/ptbxl_form/LinearProbing/LinearProbing-resnet18-B-16ptbxl_formR-10.csv',index_col='epoch')\n",
    "#form100 = pd.read_csv('/home/chenjian/multi-modal_ECG/merl/MERL/finetune/ckpt/ptbxl_form/LinearProbing/LinearProbing-resnet18-B-16ptbxl_formR-100.csv',index_col='epoch')"
   ]
  },
  {
   "cell_type": "code",
   "execution_count": 319,
   "metadata": {},
   "outputs": [
    {
     "name": "stdout",
     "output_type": "stream",
     "text": [
      "AUC of 1% training data: 0.6511979304427312\n"
     ]
    }
   ],
   "source": [
    "print('AUC of 1% training data:', form1['test_auc'].max())\n",
    "# print('AUC of 10% training data:', form10['test_auc'].max())\n",
    "# print('AUC of 100% training data:', form100['test_auc'].max())"
   ]
  },
  {
   "cell_type": "markdown",
   "metadata": {},
   "source": [
    "## PTBXL-Rhythm"
   ]
  },
  {
   "cell_type": "code",
   "execution_count": 320,
   "metadata": {},
   "outputs": [
    {
     "name": "stdout",
     "output_type": "stream",
     "text": [
      "AUC of 1% training data: 0.5498816368220522\n"
     ]
    }
   ],
   "source": [
    "rhythm1 = pd.read_csv('/home/chenjian/multi-modal_ECG/merl/MERL/finetune/ckpt/ptbxl_rhythm/LinearProbing/LinearProbing-resnet18-B-16ptbxl_rhythmR-1.csv',index_col='epoch')\n",
    "# rhythm10 = pd.read_csv('/home/chenjian/multi-modal_ECG/merl/MERL/finetune/ckpt/ptbxl_rhythm/LinearProbing/LinearProbing-resnet18-B-16ptbxl_rhythmR-10.csv',index_col='epoch')\n",
    "# rhythm100 = pd.read_csv('/home/chenjian/multi-modal_ECG/merl/MERL/finetune/ckpt/ptbxl_rhythm/LinearProbing/LinearProbing-resnet18-B-16ptbxl_rhythmR-100.csv',index_col='epoch')\n",
    "print('AUC of 1% training data:', rhythm1['test_auc'].max())\n",
    "# print('AUC of 10% training data:', rhythm10['test_auc'].max())\n",
    "# print('AUC of 100% training data:', rhythm100['test_auc'].max())"
   ]
  },
  {
   "cell_type": "markdown",
   "metadata": {},
   "source": [
    "## PTBXL-Super"
   ]
  },
  {
   "cell_type": "code",
   "execution_count": 321,
   "metadata": {},
   "outputs": [
    {
     "name": "stdout",
     "output_type": "stream",
     "text": [
      "AUC of 1% training data: 0.8309446655502528\n"
     ]
    }
   ],
   "source": [
    "super1 = pd.read_csv('/home/chenjian/multi-modal_ECG/merl/MERL/finetune/ckpt/ptbxl_super_class/LinearProbing/LinearProbing-resnet18-B-16ptbxl_super_classR-1.csv',index_col='epoch')\n",
    "#super10 = pd.read_csv('/home/chenjian/multi-modal_ECG/merl/MERL/finetune/ckpt/ptbxl_super_class/LinearProbing/LinearProbing-resnet18-B-16ptbxl_super_classR-10.csv',index_col='epoch')\n",
    "#super100 = pd.read_csv('/home/chenjian/multi-modal_ECG/merl/MERL/finetune/ckpt/ptbxl_super_class/LinearProbing/LinearProbing-resnet18-B-16ptbxl_super_classR-100.csv',index_col='epoch')\n",
    "print('AUC of 1% training data:', super1['test_auc'].max())\n",
    "# print('AUC of 10% training data:', super10['test_auc'].max())\n",
    "# print('AUC of 100% training data:', super100['test_auc'].max())"
   ]
  },
  {
   "cell_type": "markdown",
   "metadata": {},
   "source": [
    "## PTBXL-Sub"
   ]
  },
  {
   "cell_type": "code",
   "execution_count": 322,
   "metadata": {},
   "outputs": [
    {
     "name": "stdout",
     "output_type": "stream",
     "text": [
      "AUC of 1% training data: 0.6508608282996732\n"
     ]
    }
   ],
   "source": [
    "sub1 = pd.read_csv('/home/chenjian/multi-modal_ECG/merl/MERL/finetune/ckpt/ptbxl_sub_class/LinearProbing/LinearProbing-resnet18-B-16ptbxl_sub_classR-1.csv',index_col='epoch')\n",
    "#sub10 = pd.read_csv('/home/chenjian/multi-modal_ECG/merl/MERL/finetune/ckpt/ptbxl_sub_class/LinearProbing/LinearProbing-resnet18-B-16ptbxl_sub_classR-10.csv',index_col='epoch')\n",
    "#sub100 = pd.read_csv('/home/chenjian/multi-modal_ECG/merl/MERL/finetune/ckpt/ptbxl_sub_class/LinearProbing/LinearProbing-resnet18-B-16ptbxl_sub_classR-100.csv',index_col='epoch')\n",
    "print('AUC of 1% training data:', sub1['test_auc'].max())\n",
    "# print('AUC of 10% training data:', sub10['test_auc'].max())\n",
    "# print('AUC of 100% training data:', sub100['test_auc'].max())"
   ]
  },
  {
   "cell_type": "code",
   "execution_count": null,
   "metadata": {},
   "outputs": [],
   "source": []
  },
  {
   "cell_type": "code",
   "execution_count": null,
   "metadata": {},
   "outputs": [],
   "source": []
  },
  {
   "cell_type": "code",
   "execution_count": null,
   "metadata": {},
   "outputs": [],
   "source": []
  },
  {
   "cell_type": "code",
   "execution_count": null,
   "metadata": {},
   "outputs": [],
   "source": []
  },
  {
   "cell_type": "code",
   "execution_count": null,
   "metadata": {},
   "outputs": [],
   "source": []
  }
 ],
 "metadata": {
  "kernelspec": {
   "display_name": "laecgm",
   "language": "python",
   "name": "python3"
  },
  "language_info": {
   "codemirror_mode": {
    "name": "ipython",
    "version": 3
   },
   "file_extension": ".py",
   "mimetype": "text/x-python",
   "name": "python",
   "nbconvert_exporter": "python",
   "pygments_lexer": "ipython3",
   "version": "3.11.9"
  }
 },
 "nbformat": 4,
 "nbformat_minor": 2
}
